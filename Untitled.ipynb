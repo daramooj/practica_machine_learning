{
 "cells": [
  {
   "cell_type": "code",
   "execution_count": 3,
   "id": "2aa400f0",
   "metadata": {},
   "outputs": [],
   "source": [
    "import numpy as np\n",
    "import pandas as pd\n",
    "import matplotlib.pyplot as plt"
   ]
  },
  {
   "cell_type": "code",
   "execution_count": 20,
   "id": "0a6787d4",
   "metadata": {},
   "outputs": [],
   "source": [
    "def f(limx,limy):\n",
    "    plt.figure()\n",
    "    plt.axvline(x = 0, color = \"grey\", zorder = 0)\n",
    "    plt.axhline(y = 0, color = \"grey\", zorder = 0)\n",
    "    plt.xlim(limx)\n",
    "    plt.ylim(limy)\n",
    "    for x in range (100):\n",
    "        return x**2\n"
   ]
  },
  {
   "cell_type": "code",
   "execution_count": 21,
   "id": "237040ec",
   "metadata": {},
   "outputs": [
    {
     "data": {
      "text/plain": [
       "0"
      ]
     },
     "execution_count": 21,
     "metadata": {},
     "output_type": "execute_result"
    },
    {
     "data": {
      "image/png": "[encoded data removed]",
      "text/plain": [
       "<Figure size 432x288 with 1 Axes>"
      ]
     },
     "metadata": {
      "needs_background": "light"
     },
     "output_type": "display_data"
    }
   ],
   "source": [
    "f((-5,5),(-5,5))"
   ]
  },
  {
   "cell_type": "code",
   "execution_count": null,
   "id": "7d80daf2",
   "metadata": {},
   "outputs": [],
   "source": []
  }
 ],
 "metadata": {
  "kernelspec": {
   "display_name": "Python 3 (ipykernel)",
   "language": "python",
   "name": "python3"
  },
  "language_info": {
   "codemirror_mode": {
    "name": "ipython",
    "version": 3
   },
   "file_extension": ".py",
   "mimetype": "text/x-python",
   "name": "python",
   "nbconvert_exporter": "python",
   "pygments_lexer": "ipython3",
   "version": "3.9.7"
  }
 },
 "nbformat": 4,
 "nbformat_minor": 5
}
